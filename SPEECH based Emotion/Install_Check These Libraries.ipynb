{
 "cells": [
  {
   "cell_type": "markdown",
   "id": "3b36917e",
   "metadata": {},
   "source": [
    "# check the libraries is installed successfully or not?"
   ]
  },
  {
   "cell_type": "code",
   "execution_count": null,
   "id": "cc3cd388",
   "metadata": {},
   "outputs": [],
   "source": [
    "!pip install numpy\n",
    "!pip install pandas\n",
    "!pip install librosa\n",
    "!pip install soundfile\n",
    "!pip install tensorflow\n",
    "!pip install tqdm\n",
    "!pip install speechrecognition\n",
    "!pip install pyaudio\n",
    "!pip install pickle\n",
    "!pip install glob\n",
    "!pip install signal\n",
    "\n",
    "\n",
    "#If pyaudio isn't installed successfully!!! Try this\n",
    "!pip install pipwin\n",
    "!pipwin install pyaudio\n",
    "\n",
    "!pip install opencv-python\n",
    "#If opencv-python isn't installed success fully!!! Try this\n",
    "#use this in anaconda cmd\n",
    "conda update navigator-updater\n",
    "conda install -c https://conda.binstar.org/menpo opencv\n"
   ]
  }
 ],
 "metadata": {
  "kernelspec": {
   "display_name": "Python 3 (ipykernel)",
   "language": "python",
   "name": "python3"
  },
  "language_info": {
   "codemirror_mode": {
    "name": "ipython",
    "version": 3
   },
   "file_extension": ".py",
   "mimetype": "text/x-python",
   "name": "python",
   "nbconvert_exporter": "python",
   "pygments_lexer": "ipython3",
   "version": "3.9.7"
  }
 },
 "nbformat": 4,
 "nbformat_minor": 5
}
